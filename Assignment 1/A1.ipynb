{
  "nbformat": 4,
  "nbformat_minor": 0,
  "metadata": {
    "colab": {
      "provenance": []
    },
    "kernelspec": {
      "name": "python3",
      "display_name": "Python 3"
    },
    "language_info": {
      "name": "python"
    }
  },
  "cells": [
    {
      "cell_type": "code",
      "source": [
        "import math as m\n",
        "import numpy as np\n",
        "import matplotlib.pyplot as plt \n",
        "import networkx as nx"
      ],
      "metadata": {
        "id": "SjjE8ytCcG9k"
      },
      "execution_count": 2,
      "outputs": []
    },
    {
      "cell_type": "markdown",
      "source": [
        "# Assignment 1 - Introduction to Network Science.pdf"
      ],
      "metadata": {
        "id": "kvWC7GvpbRqZ"
      }
    },
    {
      "cell_type": "markdown",
      "source": [
        "## A01.1 Building and visualising networks"
      ],
      "metadata": {
        "id": "tN3u623ebj4r"
      }
    },
    {
      "cell_type": "code",
      "source": [
        "n = 32"
      ],
      "metadata": {
        "id": "AsvzHbQmduAS"
      },
      "execution_count": 3,
      "outputs": []
    },
    {
      "cell_type": "markdown",
      "source": [
        "#### 1. Star network"
      ],
      "metadata": {
        "id": "NByqmTcudfuV"
      }
    },
    {
      "cell_type": "code",
      "source": [
        "star_network = nx.Graph()\n",
        "star_network.add_node(n)\n",
        "for i in range(n-1):\n",
        "    star_network.add_node(i)\n",
        "    star_network.add_edge(n,i)"
      ],
      "metadata": {
        "id": "dZ8kzN4DdqYH"
      },
      "execution_count": null,
      "outputs": []
    }
  ]
}